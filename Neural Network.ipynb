{
 "cells": [
  {
   "cell_type": "code",
   "execution_count": 2,
   "metadata": {},
   "outputs": [],
   "source": [
    "import torch\n",
    "from torch import nn\n",
    "from torch.utils.data import DataLoader\n",
    "from torchvision.datasets import MNIST\n",
    "from torchvision import transforms\n",
    "import matplotlib.pyplot as plt\n",
    "from tqdm import tqdm\n",
    "from torch.utils.data import TensorDataset\n",
    "import numpy as np"
   ]
  },
  {
   "cell_type": "code",
   "execution_count": 5,
   "metadata": {},
   "outputs": [],
   "source": [
    "X_train, y_train = next(iter(DataLoader(MNIST('./', train=True, download=True, transform=transforms.ToTensor()), batch_size=60000)))\n",
    "X_test, y_test = next(iter(DataLoader(MNIST('./', train=False, download=True, transform=transforms.ToTensor()), batch_size=10000)))"
   ]
  },
  {
   "cell_type": "code",
   "execution_count": 6,
   "metadata": {},
   "outputs": [],
   "source": [
    "dataset_train = TensorDataset(X_train, y_train)\n",
    "dataset_test = TensorDataset(X_test, y_test)"
   ]
  },
  {
   "cell_type": "code",
   "execution_count": 7,
   "metadata": {},
   "outputs": [],
   "source": [
    "train_dataloader = DataLoader(dataset_train, batch_size=128, shuffle=True)"
   ]
  },
  {
   "cell_type": "markdown",
   "metadata": {},
   "source": [
    "# Implem with pytorch first"
   ]
  },
  {
   "cell_type": "code",
   "execution_count": 6,
   "metadata": {},
   "outputs": [],
   "source": [
    "class Net(nn.Module):\n",
    "    def __init__(self):\n",
    "        super(Net, self).__init__()\n",
    "        self.l1 = nn.Linear(784, 128, bias=False)\n",
    "        self.l2 = nn.Linear(128, 10, bias=False)\n",
    "        self.softmax = nn.LogSoftmax(dim=1)\n",
    "        self.relu = nn.ReLU()\n",
    "    \n",
    "    def forward(self, x):\n",
    "        x = self.l1(x)\n",
    "        x = self.relu(x)\n",
    "        x = self.l2(x)\n",
    "        x = self.softmax(x)\n",
    "        return x"
   ]
  },
  {
   "cell_type": "code",
   "execution_count": 7,
   "metadata": {},
   "outputs": [
    {
     "name": "stderr",
     "output_type": "stream",
     "text": [
      "  0%|          | 0/469 [00:00<?, ?it/s]/home/david/anaconda3/lib/python3.7/site-packages/torch/autograd/__init__.py:132: UserWarning: CUDA initialization: The NVIDIA driver on your system is too old (found version 10010). Please update your GPU driver by downloading and installing a new version from the URL: http://www.nvidia.com/Download/index.aspx Alternatively, go to: https://pytorch.org to install a PyTorch version that has been compiled with your version of the CUDA driver. (Triggered internally at  /pytorch/c10/cuda/CUDAFunctions.cpp:100.)\n",
      "  allow_unreachable=True)  # allow_unreachable flag\n",
      "loss 41.79 accuracy 0.85: 100%|██████████| 469/469 [00:04<00:00, 98.14it/s] \n",
      "loss 26.41 accuracy 0.92:   2%|▏         | 10/469 [00:00<00:04, 93.48it/s]"
     ]
    },
    {
     "name": "stdout",
     "output_type": "stream",
     "text": [
      "val_acc: 0.9150000214576721\n"
     ]
    },
    {
     "name": "stderr",
     "output_type": "stream",
     "text": [
      "loss 35.46 accuracy 0.93: 100%|██████████| 469/469 [00:03<00:00, 132.52it/s]\n",
      "loss 40.69 accuracy 0.91:   3%|▎         | 14/469 [00:00<00:03, 133.04it/s]"
     ]
    },
    {
     "name": "stdout",
     "output_type": "stream",
     "text": [
      "val_acc: 0.9298999905586243\n"
     ]
    },
    {
     "name": "stderr",
     "output_type": "stream",
     "text": [
      "loss 15.58 accuracy 0.98: 100%|██████████| 469/469 [00:03<00:00, 125.07it/s]\n",
      "loss 31.31 accuracy 0.91:   3%|▎         | 12/469 [00:00<00:03, 119.91it/s]"
     ]
    },
    {
     "name": "stdout",
     "output_type": "stream",
     "text": [
      "val_acc: 0.946399986743927\n"
     ]
    },
    {
     "name": "stderr",
     "output_type": "stream",
     "text": [
      "loss 9.76 accuracy 0.99: 100%|██████████| 469/469 [00:03<00:00, 127.67it/s] \n",
      "loss 14.28 accuracy 0.98:   3%|▎         | 12/469 [00:00<00:03, 119.73it/s]"
     ]
    },
    {
     "name": "stdout",
     "output_type": "stream",
     "text": [
      "val_acc: 0.9531999826431274\n"
     ]
    },
    {
     "name": "stderr",
     "output_type": "stream",
     "text": [
      "loss 14.56 accuracy 0.98: 100%|██████████| 469/469 [00:03<00:00, 121.24it/s]\n"
     ]
    },
    {
     "name": "stdout",
     "output_type": "stream",
     "text": [
      "val_acc: 0.9595000147819519\n"
     ]
    }
   ],
   "source": [
    "model = Net()\n",
    "\n",
    "loss_function = nn.NLLLoss(reduction=\"none\")\n",
    "optim = torch.optim.SGD(model.parameters(), lr=0.001, momentum=0)\n",
    "epochs = 5\n",
    "\n",
    "losses, accuracies = [], []\n",
    "\n",
    "for i in range(epochs):\n",
    "    pbar = tqdm(train_dataloader)\n",
    "    for batch in pbar:\n",
    "        X, y = batch\n",
    "        model.zero_grad()\n",
    "        out = model.forward(X.view(-1, 784))\n",
    "        yp = torch.argmax(out, dim=1)\n",
    "        accuracy = (yp == y).float().mean()\n",
    "        loss = loss_function(out, y)\n",
    "        loss = loss.sum()\n",
    "        loss.backward()\n",
    "        optim.step()\n",
    "\n",
    "        losses.append(loss.item())\n",
    "        accuracies.append(accuracy.item())\n",
    "        \n",
    "        pbar.set_description(\"loss %.2f accuracy %.2f\" % (loss, accuracy))\n",
    "    y_test_preds = torch.argmax(model(X_test.view(-1, 784)), dim=1)\n",
    "    val_acc = (y_test == y_test_preds).float().mean()\n",
    "    print(f'val_acc: {val_acc}')"
   ]
  },
  {
   "cell_type": "code",
   "execution_count": 8,
   "metadata": {},
   "outputs": [
    {
     "data": {
      "text/plain": [
       "[<matplotlib.lines.Line2D at 0x7fc558225240>]"
      ]
     },
     "execution_count": 8,
     "metadata": {},
     "output_type": "execute_result"
    },
    {
     "data": {
      "image/png": "[encoded data removed]",
      "text/plain": [
       "<Figure size 432x288 with 1 Axes>"
      ]
     },
     "metadata": {
      "needs_background": "light"
     },
     "output_type": "display_data"
    }
   ],
   "source": [
    "plt.plot(np.array(accuracies)/np.max(accuracies))\n",
    "plt.plot(np.array(losses)/np.max(losses))"
   ]
  },
  {
   "cell_type": "markdown",
   "metadata": {},
   "source": [
    "# With numpy"
   ]
  },
  {
   "cell_type": "markdown",
   "metadata": {},
   "source": [
    "**Layers without bias**  \n",
    "\n",
    "$\n",
    "l_{1}(X)=X W_{1} \\quad l_{2}(X)=X W_{2} \\\\  \n",
    "\\frac{d l(X)}{d x}=\\frac{d X W}{d W}=X^{\\top}\n",
    "$\n",
    "\n",
    "**ReLU function**  \n",
    "$\\operatorname{relu}(x)=\\max (0, x)$  \n",
    "$\n",
    "\\frac{d \\operatorname{relu}(x)}{d x}=\n",
    "\\begin{cases} \n",
    "0 & \\text{if  }  x < 0 \\\\\n",
    "1 & \\text{if  }  x > 0 \\\\\n",
    "\\end{cases}\n",
    "$\n",
    "\n",
    "**Softmax**  \n",
    "$\\sigma\\left(x_{i}\\right)=\\frac{e^{x_{i}}}{\\sum_{j}^{x} x_{j}}$\n",
    "\n",
    "**Cross Entropy**  \n",
    "$L\\left(Y,P)=-\\sum_{i=1}^{c} y_{i} \\log \\left(p_{i}\\right)\\right.$  \n",
    "\n",
    "**Derivative of Cross Entropy w.r.t to input of softmax**  \n",
    "https://peterroelants.github.io/posts/cross-entropy-softmax/    \n",
    "\n",
    "$\\frac{\\partial L(Y, \\sigma(l_{2}))}{\\partial \\sigma(l_{2})} \\frac{\\partial \\sigma(l_{2})}{\\partial l_{2}} = Y - \\sigma(l_{2})$"
   ]
  },
  {
   "cell_type": "markdown",
   "metadata": {},
   "source": [
    "**Derivative of Cross Entropy w.r.t $W_{1}$**  \n",
    "\n",
    "$\n",
    "\\begin{align*}\n",
    "\\frac{d L}{d W_{1}} &=\\frac{\\partial L}{\\partial \\sigma} \\frac{\\partial \\sigma}{\\partial l_{2}} \\frac{\\partial l_{2}}{\\partial relu} \\frac{\\partial relu}{\\partial l_{1}} \\frac{\\partial l_{1}}{\\partial W_{1}}\\\\\n",
    "&=\\frac{\\partial L}{\\partial l_{2}} \\frac{\\partial l_{2}}{\\partial relu} \\frac{\\partial relu}{\\partial l_{1}} \\frac{\\partial l_{1}}{\\partial W_{1}}\\\\\n",
    "&=\\frac{\\partial L}{\\partial relu \\left(X W_{1}\\right) W_{2}} \\frac{\\partial relu\\left(X W_{1}\\right) W_{2}}{\\partial relu\\left(XW_{1}\\right)} \\frac{\\partial relu\\left(X W_{1}\\right)}{\\partial X W_{1}} \\frac{\\partial X W_{1}}{\\partial W_{1}} \\\\\n",
    "&=(Y - \\sigma)W_{2}^{T} \\begin{cases} \n",
    "0 & \\text{if  }  XW_{1} < 0 \\\\\n",
    "1 & \\text{if  }  XW_{1} > 0 \\\\\n",
    "\\end{cases} X^{T}\n",
    "\\end{align*}\n",
    "$  \n",
    "\n",
    "**Derivative of Cross Entropy w.r.t $W_{2}$**  \n",
    "$\n",
    "\\begin{align*}\n",
    "\\frac{d L}{d W_{2}} &=\\frac{\\partial L}{\\partial l_{2}} \\frac{\\partial l_{2}}{\\partial W_{2}}=\\frac{\\partial L}{\\partial relu \\left(X W_{1}\\right) W_{2}}\\frac{\\partial relu \\left(X W_{1}\\right) W_{2}}{\\partial W_{2}}=(Y - \\sigma)relu \\left(X W_{1}\\right)^{T}\n",
    "\\end{align*}\n",
    "$"
   ]
  },
  {
   "cell_type": "code",
   "execution_count": 4,
   "metadata": {},
   "outputs": [],
   "source": [
    "import numpy as np\n",
    "\n",
    "def relu(x):\n",
    "    return np.maximum(x, 0)\n",
    "\n",
    "def softmax(x, dim=1):\n",
    "    return np.exp(x) / np.sum(np.exp(x), dim).reshape(-1, 1)\n",
    "\n",
    "def layer_init(in_features, out_features):\n",
    "    return np.random.randn(in_features, out_features) * np.sqrt(2/out_features)"
   ]
  },
  {
   "cell_type": "markdown",
   "metadata": {},
   "source": [
    "## 2 layers and relu"
   ]
  },
  {
   "cell_type": "code",
   "execution_count": 10,
   "metadata": {},
   "outputs": [
    {
     "name": "stderr",
     "output_type": "stream",
     "text": [
      "100%|██████████| 469/469 [00:04<00:00, 108.19it/s]\n",
      "100%|██████████| 469/469 [00:04<00:00, 115.25it/s]\n",
      "100%|██████████| 469/469 [00:04<00:00, 114.64it/s]\n"
     ]
    },
    {
     "data": {
      "text/plain": [
       "[<matplotlib.lines.Line2D at 0x7fd1b4690748>]"
      ]
     },
     "execution_count": 10,
     "metadata": {},
     "output_type": "execute_result"
    },
    {
     "data": {
      "image/png": "[encoded data removed]",
      "text/plain": [
       "<Figure size 432x288 with 1 Axes>"
      ]
     },
     "metadata": {
      "needs_background": "light"
     },
     "output_type": "display_data"
    }
   ],
   "source": [
    "lr = 0.001\n",
    "w1 = layer_init(784, 128)\n",
    "w2 = layer_init(128, 10)\n",
    "\n",
    "losses, accuracies = [], []\n",
    "\n",
    "for i in range(3):\n",
    "    for X, y in tqdm(train_dataloader):\n",
    "\n",
    "        X = X.view(-1, 784).numpy()\n",
    "        y = y.numpy()\n",
    "        y_one_hot = np.zeros((len(y), 10), np.float32)\n",
    "        y_one_hot[range(y_one_hot.shape[0]), y] = 1\n",
    "\n",
    "        # forward\n",
    "        x_l1 = X.dot(w1)\n",
    "        x_relu = relu(x_l1)\n",
    "        x_l2 = x_relu.dot(w2)\n",
    "        x_softmax = softmax(x_l2)\n",
    "        x_log_softmax = np.log(x_softmax)\n",
    "        loss = - y_one_hot * x_log_softmax\n",
    "        loss = loss.sum()\n",
    "        accuracy = (np.argmax(x_softmax, 1) == y).astype(np.float32).mean()\n",
    "\n",
    "        # backward\n",
    "        dloss_dl2 = x_softmax - y_one_hot\n",
    "        dl2_dw2 = x_relu.T\n",
    "        dloss_dw2 = dl2_dw2.dot(dloss_dl2)\n",
    "        \n",
    "        dl2_drelu = w2.T\n",
    "        drelu_dl1 = (x_l1 > 0).astype(np.float32)\n",
    "        dl1_dw1 = X.T\n",
    "                \n",
    "        dloss_dw1 = dl1_dw1.dot(dloss_dl2.dot(dl2_drelu) * drelu_dl1)\n",
    "        \n",
    "\n",
    "        # SGD\n",
    "        w1 = w1 - lr * dloss_dw1\n",
    "        w2 = w2 - lr * dloss_dw2\n",
    "\n",
    "        losses.append(loss)\n",
    "        accuracies.append(accuracy)\n",
    "        \n",
    "plt.plot(np.array(losses)/np.max(losses))\n",
    "plt.plot(np.array(accuracies)/np.max(accuracies)) \n"
   ]
  },
  {
   "cell_type": "code",
   "execution_count": 11,
   "metadata": {},
   "outputs": [
    {
     "name": "stdout",
     "output_type": "stream",
     "text": [
      "val acc 0.9578\n"
     ]
    }
   ],
   "source": [
    "x_l1 = X_test.view(-1, 784).numpy().dot(w1)\n",
    "x_relu = relu(x_l1)\n",
    "x_l2 = x_relu.dot(w2)\n",
    "x_softmax = softmax(x_l2)\n",
    "print('val acc', (np.argmax(x_softmax, 1) == y_test.numpy()).astype(np.float32).mean())"
   ]
  },
  {
   "cell_type": "code",
   "execution_count": 13,
   "metadata": {},
   "outputs": [
    {
     "name": "stdout",
     "output_type": "stream",
     "text": [
      "pred 6\n"
     ]
    },
    {
     "data": {
      "text/plain": [
       "<matplotlib.image.AxesImage at 0x7fd154c85c50>"
      ]
     },
     "execution_count": 13,
     "metadata": {},
     "output_type": "execute_result"
    },
    {
     "data": {
      "image/png": "[encoded data removed]",
      "text/plain": [
       "<Figure size 432x288 with 1 Axes>"
      ]
     },
     "metadata": {
      "needs_background": "light"
     },
     "output_type": "display_data"
    }
   ],
   "source": [
    "random_idx = np.random.choice(len(X_test))\n",
    "x_sample = X_test[random_idx]\n",
    "x_l1 = x_sample.view(1, 784).numpy().dot(w1)\n",
    "x_relu = relu(x_l1)\n",
    "x_l2 = x_relu.dot(w2)\n",
    "x_softmax = softmax(x_l2)\n",
    "pred = np.argmax(x_softmax)\n",
    "\n",
    "print('pred', pred)\n",
    "plt.imshow(x_sample.numpy()[0], cmap='gray')"
   ]
  },
  {
   "cell_type": "markdown",
   "metadata": {},
   "source": [
    "# One layer, no relu, but using complete chain rule to calculate gradient w.r.t $W_{1}$\n",
    "Calculating derivative of cross entropy w.r.t softmax\n",
    "and then derivative of softmax w.r.t input"
   ]
  },
  {
   "cell_type": "markdown",
   "metadata": {},
   "source": [
    "**Derivative of Cross Entropy w.r.t output of softmax**  \n",
    "\n",
    "$\n",
    "\\begin{align*}\n",
    "\\frac{d L(Y,\\sigma)}{d \\sigma} &=-\\frac{\\partial \\operatorname{sum}(Y \\otimes \\log (\\sigma))}{\\partial Y \\otimes \\log (\\sigma)} \\frac{\\partial Y \\otimes \\log (\\sigma)}{\\partial \\log (\\sigma)} \\frac{\\partial \\log (\\sigma)}{\\partial \\sigma} \\\\\n",
    "&=-\\overrightarrow{1}^{T} diag(Y) \\frac{1}{\\sigma} \\\\\n",
    "&=-\\frac{Y^{T}}{\\sigma}\n",
    "\\end{align*}\n",
    "$  \n",
    "\n",
    "\n",
    "**Derivative of Softmax w.r.t $x$**  \n",
    "\n",
    "$\n",
    "\\begin{align*}\n",
    "\\frac{d \\sigma(x)}{d x} &=\\left[\\begin{array}{ccc}\n",
    "\\sigma\\left(x_{1}\\right)-\\sigma\\left(x_{1}\\right) \\sigma\\left(x_{1}\\right) & \\ldots & 0-\\sigma\\left(x_{1}\\right) \\sigma\\left(x_{N}\\right) \\\\\n",
    "\\ldots & \\sigma\\left(x_{j}\\right)-\\sigma\\left(x_{j}\\right) \\sigma\\left(x_{i}\\right) & \\\\\n",
    "0-\\sigma\\left(x_{N}\\right) \\sigma\\left(x_{1}\\right) & \\ldots & \\alpha\\left(x_{N}\\right)-\\sigma\\left(x_{N}\\right) \\sigma\\left(x_{N}\\right)\n",
    "\\end{array}\\right] \\\\\n",
    "&=\\left[\\begin{array}{ccc}\n",
    "\\sigma\\left(x_{1}\\right) & \\cdots & 0 \\\\\n",
    "\\cdots & \\sigma\\left(x_{j}\\right) & \\cdots \\\\\n",
    "0 & \\cdots & \\sigma\\left(x_{N}\\right)\n",
    "\\end{array}\\right]-\\left[\\begin{array}{cc}\n",
    "\\sigma\\left(x_{1}\\right) \\sigma\\left(x_{1}\\right) & \\cdots & \\sigma\\left(x_{1}\\right) \\sigma\\left(x_{N}\\right) \\\\\n",
    "\\cdots & \\sigma\\left(x_{j}\\right) \\sigma\\left(x_{i}\\right) & \\cdots \\\\\n",
    "\\sigma\\left(x_{N}\\right) \\sigma\\left(x_{1}\\right) & \\cdots & \\sigma\\left(x_{N}\\right) \\sigma\\left(x_{N}\\right)\n",
    "\\end{array}\\right]\n",
    "\\end{align*}\n",
    "$  "
   ]
  },
  {
   "cell_type": "markdown",
   "metadata": {},
   "source": [
    "**Derivative of Cross Entropy w.r.t** $W_{1}$  \n",
    "\n",
    "$\n",
    "\\begin{align*}\n",
    "\\frac{d L}{d W_{1}} &=\\frac{\\partial L}{\\partial \\sigma} \\frac{\\partial \\sigma}{\\partial l_{1}} \\frac{\\partial l_{1}}{\\partial W_{1}}\\\\\n",
    "&=-\\frac{Y^{T}}{\\sigma}\\frac{\\partial \\sigma}{\\partial l_{1}}X^T\n",
    "\\end{align*}\n",
    "$"
   ]
  },
  {
   "cell_type": "markdown",
   "metadata": {},
   "source": [
    "## gradient of softmax"
   ]
  },
  {
   "cell_type": "code",
   "execution_count": 7,
   "metadata": {},
   "outputs": [],
   "source": [
    "x = np.array([[1., 2., 3.], [3., 2., 1.], [2., 3., 1.]]).astype(np.float32)\n",
    "x_softmax = softmax(x, 1)\n",
    "\n",
    "diag_softmax = np.concatenate([np.expand_dims(np.diag(vec), 0) for vec in x_softmax])\n",
    "softmax_matrix = np.tile(np.expand_dims(x_softmax, 2), x_softmax.shape[1])\n",
    "dsoftmax_dx = diag_softmax - softmax_matrix * np.transpose(softmax_matrix, (0, 2, 1))"
   ]
  },
  {
   "cell_type": "code",
   "execution_count": 8,
   "metadata": {},
   "outputs": [
    {
     "data": {
      "text/plain": [
       "array([[-0.1418171 , -0.14077032,  0.28258747],\n",
       "       [ 0.28258747, -0.14077033, -0.1418171 ],\n",
       "       [-0.14077033,  0.28258747, -0.1418171 ]], dtype=float32)"
      ]
     },
     "execution_count": 8,
     "metadata": {},
     "output_type": "execute_result"
    }
   ],
   "source": [
    "(np.expand_dims(x, 1) @ (dsoftmax_dx)).reshape(-1, 3)"
   ]
  },
  {
   "cell_type": "code",
   "execution_count": 11,
   "metadata": {},
   "outputs": [],
   "source": [
    "torch_x = torch.tensor(x, requires_grad=True, dtype=torch.float32)\n",
    "torch_x.retain_grad()\n",
    "torch_sm = torch.softmax(torch_x, 1)\n",
    "torch_sm.retain_grad()\n",
    "torch_sm.backward(torch_x)"
   ]
  },
  {
   "cell_type": "code",
   "execution_count": 12,
   "metadata": {},
   "outputs": [
    {
     "data": {
      "text/plain": [
       "tensor([[-0.1418, -0.1408,  0.2826],\n",
       "        [ 0.2826, -0.1408, -0.1418],\n",
       "        [-0.1408,  0.2826, -0.1418]])"
      ]
     },
     "execution_count": 12,
     "metadata": {},
     "output_type": "execute_result"
    }
   ],
   "source": [
    "# pytorch actually computes X.dot(Jacobian)\n",
    "torch_x.grad"
   ]
  },
  {
   "cell_type": "code",
   "execution_count": 18,
   "metadata": {},
   "outputs": [
    {
     "name": "stderr",
     "output_type": "stream",
     "text": [
      "100%|██████████| 469/469 [00:03<00:00, 119.88it/s]\n",
      "100%|██████████| 469/469 [00:03<00:00, 129.50it/s]\n",
      "100%|██████████| 469/469 [00:03<00:00, 119.03it/s]\n",
      "100%|██████████| 469/469 [00:03<00:00, 128.33it/s]\n",
      "100%|██████████| 469/469 [00:03<00:00, 129.19it/s]\n"
     ]
    }
   ],
   "source": [
    "lr = 0.001\n",
    "w1 = layer_init(784, 10)\n",
    "\n",
    "losses, accuracies = [], []\n",
    "\n",
    "for i in range(5):\n",
    "    for X, y in tqdm(train_dataloader):\n",
    "\n",
    "        X = X.view(-1, 784).numpy()\n",
    "        y = y.numpy()\n",
    "        y_one_hot = np.zeros((len(y), 10), np.float32)\n",
    "        y_one_hot[range(y_one_hot.shape[0]), y] = 1\n",
    "\n",
    "        # forward\n",
    "        x_l1 = X.dot(w1)\n",
    "        x_softmax = softmax(x_l1)\n",
    "        x_log_softmax = np.log(x_softmax)\n",
    "        loss = - y_one_hot * x_log_softmax\n",
    "        loss = loss.sum()\n",
    "        accuracy = (np.argmax(x_softmax, 1) == y).astype(np.float32).mean()\n",
    "\n",
    "        # backward\n",
    "        dlog_dsoftmax = - y_one_hot / x_softmax\n",
    "        \n",
    "        diag_softmax = np.concatenate([np.expand_dims(np.diag(vec), 0) for vec in x_softmax])\n",
    "        softmax_matrix = np.tile(np.expand_dims(x_softmax, 2), x_softmax.shape[1])\n",
    "        dsoftmax_dl1 = diag_softmax - softmax_matrix * np.transpose(softmax_matrix, (0, 2, 1))\n",
    "                \n",
    "        dloss_dl1 = (np.expand_dims(dlog_dsoftmax, 1) @ (dsoftmax_dl1)).reshape(-1, 10)\n",
    "\n",
    "\n",
    "        dl1_dw1 = X.T\n",
    "        \n",
    "        dloss_dw1 = dl1_dw1.dot(dloss_dl1)\n",
    "\n",
    "        # SGD\n",
    "        w1 = w1 - lr * dloss_dw1\n",
    "\n",
    "        losses.append(loss)\n",
    "        accuracies.append(accuracy)"
   ]
  },
  {
   "cell_type": "code",
   "execution_count": 19,
   "metadata": {},
   "outputs": [
    {
     "data": {
      "text/plain": [
       "[<matplotlib.lines.Line2D at 0x7fc558272a58>]"
      ]
     },
     "execution_count": 19,
     "metadata": {},
     "output_type": "execute_result"
    },
    {
     "data": {
      "image/png": "[encoded data removed]",
      "text/plain": [
       "<Figure size 432x288 with 1 Axes>"
      ]
     },
     "metadata": {
      "needs_background": "light"
     },
     "output_type": "display_data"
    }
   ],
   "source": [
    "plt.plot(np.array(losses)/np.max(losses))\n",
    "plt.plot(np.array(accuracies)/np.max(accuracies)) "
   ]
  }
 ],
 "metadata": {
  "kernelspec": {
   "display_name": "Python 3",
   "language": "python",
   "name": "python3"
  },
  "language_info": {
   "codemirror_mode": {
    "name": "ipython",
    "version": 3
   },
   "file_extension": ".py",
   "mimetype": "text/x-python",
   "name": "python",
   "nbconvert_exporter": "python",
   "pygments_lexer": "ipython3",
   "version": "3.7.1"
  }
 },
 "nbformat": 4,
 "nbformat_minor": 4
}
